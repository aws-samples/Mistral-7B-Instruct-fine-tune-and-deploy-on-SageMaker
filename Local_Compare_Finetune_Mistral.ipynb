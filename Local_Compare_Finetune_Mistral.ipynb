{
 "cells": [
  {
   "cell_type": "markdown",
   "id": "2c6d91ea-8c0c-4157-a5fc-c16a4491f896",
   "metadata": {},
   "source": [
    "## Setup development environment"
   ]
  },
  {
   "cell_type": "markdown",
   "id": "db8eff5e",
   "metadata": {},
   "source": [
    "This notebook has been tested on Amazon SageMaker Notebook Instances with single GPU on ml.g5.2xlarge"
   ]
  },
  {
   "cell_type": "code",
   "execution_count": 1,
   "id": "756f5440-6f6a-4329-8f03-b545b1753f9e",
   "metadata": {
    "tags": []
   },
   "outputs": [],
   "source": [
    "!pip install transformers==4.38.1 datasets==2.17.1 peft==0.8.2 bitsandbytes==0.42.0 trl==0.7.11 --upgrade --quiet"
   ]
  },
  {
   "cell_type": "markdown",
   "id": "a2891d64-4920-465e-9781-c86dcdd31743",
   "metadata": {
    "tags": []
   },
   "source": [
    "## Load and prepare the dataset\n",
    "\n",
    "\n",
    "### Choose a dataset\n",
    "\n",
    "For the purpose of this tutorial, we will use dolly, an open-source dataset containing 15k instruction pairs.\n",
    "\n",
    "Example record from dolly:\n",
    "```\n",
    "{\n",
    "  \"instruction\": \"Who was the first woman to have four country albums reach No. 1 on the Billboard 200?\",\n",
    "  \"context\": \"\",\n",
    "  \"response\": \"Carrie Underwood.\"\n",
    "}\n",
    "```\n"
   ]
  },
  {
   "cell_type": "code",
   "execution_count": 2,
   "id": "c248c8fa-1026-4e5b-9182-9ee37e64e993",
   "metadata": {
    "tags": []
   },
   "outputs": [
    {
     "name": "stdout",
     "output_type": "stream",
     "text": [
      "dataset size: 15011\n",
      "{'instruction': 'Where is the Lighthouse Point, Bahamas', 'context': 'Lighthouse Point, Bahamas, or simply Lighthouse Point, is a private peninsula in The Bahamas which serves as an exclusive port for the Disney Cruise Line ships. It is located in the south-eastern region of Bannerman Town, Eleuthera. In March 2019, The Walt Disney Company purchased the peninsula from the Bahamian government, giving the company control over the area.', 'response': 'The Lighthouse Point, Bahamas, or simply Lighthouse Point, is a private peninsula in the Bahamas which serves as an exclusive port for the Disney Cruise Line ships. It is located in the south-eastern region of Bannerman Town, Eleuthera.', 'category': 'summarization'}\n"
     ]
    }
   ],
   "source": [
    "from datasets import load_dataset\n",
    "from random import randrange\n",
    "\n",
    "# Load dataset from the hub\n",
    "dataset = load_dataset(\"databricks/databricks-dolly-15k\", split=\"train\")\n",
    "\n",
    "print(f\"dataset size: {len(dataset)}\")\n",
    "print(dataset[randrange(len(dataset))])"
   ]
  },
  {
   "cell_type": "markdown",
   "id": "8cd4df77-add2-461b-bf92-cb8d6a4c9afe",
   "metadata": {},
   "source": [
    "### Understand the Mistral format\n",
    "\n",
    "The mistralai/Mixtral-8x7B-Instruct-v0.1 is a conversational chat model meaning we can chat with it using the following prompt:\n",
    "\n",
    "\n",
    "```\n",
    "<s> [INST] User Instruction 1 [/INST] Model answer 1</s> [INST] User instruction 2 [/INST]\n",
    "```\n"
   ]
  },
  {
   "cell_type": "markdown",
   "id": "ebc630c2-3682-4d8d-a321-14f64374a0d1",
   "metadata": {},
   "source": [
    "For instruction fine-tuning, it is quite common to have two columns inside the dataset: one for the prompt & the other for the response."
   ]
  },
  {
   "cell_type": "code",
   "execution_count": 3,
   "id": "e62a310d-d98a-460d-b00a-78e7f4f60882",
   "metadata": {
    "tags": []
   },
   "outputs": [],
   "source": [
    "from random import randint\n",
    "\n",
    "# Define the create_prompt function\n",
    "def create_prompt(sample):\n",
    "    bos_token = \"<s>\"\n",
    "    eos_token = \"</s>\"\n",
    "    \n",
    "    instruction = sample['instruction']\n",
    "    context = sample['context']\n",
    "    response = sample['response']\n",
    "\n",
    "    text_row = f\"\"\"[INST] Below is the question based on the context. Question: {instruction}. Below is the given the context {context}. Write a response that appropriately completes the request.[/INST]\"\"\"\n",
    "    answer_row = response\n",
    "\n",
    "    sample[\"prompt\"] = bos_token + text_row\n",
    "    sample[\"completion\"] = answer_row + eos_token\n",
    "\n",
    "    return sample"
   ]
  },
  {
   "cell_type": "markdown",
   "id": "c63f0625-6acf-4ed1-8f22-2a73b6e23163",
   "metadata": {},
   "source": [
    "### Mistral finetuned model inference "
   ]
  },
  {
   "cell_type": "code",
   "execution_count": 3,
   "id": "bff5f74d-64f6-4de1-9540-b0c4c7b81685",
   "metadata": {
    "tags": []
   },
   "outputs": [],
   "source": [
    "new_model_path = \"./Mistral-Finetuned-Merged\" #set the name of the new model"
   ]
  },
  {
   "cell_type": "code",
   "execution_count": 4,
   "id": "f6549cad-a99d-4ad9-aff7-71298e4fa2f4",
   "metadata": {
    "tags": []
   },
   "outputs": [
    {
     "data": {
      "application/vnd.jupyter.widget-view+json": {
       "model_id": "a9a0e47c2c4245f8b0b3c16809b3ed0b",
       "version_major": 2,
       "version_minor": 0
      },
      "text/plain": [
       "Loading checkpoint shards:   0%|          | 0/8 [00:00<?, ?it/s]"
      ]
     },
     "metadata": {},
     "output_type": "display_data"
    }
   ],
   "source": [
    "import json\n",
    "import pandas as pd\n",
    "import torch\n",
    "from datasets import Dataset, load_dataset\n",
    "from transformers import AutoModelForCausalLM, AutoTokenizer, AutoConfig\n",
    "\n",
    "new_model = AutoModelForCausalLM.from_pretrained(\n",
    "    new_model_path,\n",
    "    torch_dtype=torch.float16,\n",
    "    device_map=\"auto\"\n",
    ")\n",
    "\n",
    "\n",
    "new_model.config.use_cache = False\n",
    "new_model.config.pretraining_tp = 1"
   ]
  },
  {
   "cell_type": "code",
   "execution_count": 5,
   "id": "3a6f37ff-4a6e-46f1-bf54-1cc7645a2e35",
   "metadata": {
    "tags": []
   },
   "outputs": [],
   "source": [
    "# Load MitsralAi tokenizer\n",
    "tokenizer = AutoTokenizer.from_pretrained(new_model_path)"
   ]
  },
  {
   "cell_type": "code",
   "execution_count": 6,
   "id": "d0ca49ec-6f35-40e8-95ad-dc6267235e19",
   "metadata": {
    "tags": []
   },
   "outputs": [
    {
     "name": "stdout",
     "output_type": "stream",
     "text": [
      "<s>[INST] Below is the question based on the context. Question: Given a reference text about Lollapalooza, where does it take place, who started it and what is it?. Below is the given the context Lollapalooza /ˌlɒləpəˈluːzə/ (Lolla) is an annual American four-day music festival held in Grant Park in Chicago. It originally started as a touring event in 1991, but several years later, Chicago became its permanent location. Music genres include but are not limited to alternative rock, heavy metal, punk rock, hip hop, and electronic dance music. Lollapalooza has also featured visual arts, nonprofit organizations, and political organizations. The festival, held in Grant Park, hosts an estimated 400,000 people each July and sells out annually. Lollapalooza is one of the largest and most iconic music festivals in the world and one of the longest-running in the United States.\n",
      "\n",
      "Lollapalooza was conceived and created in 1991 as a farewell tour by Perry Farrell, singer of the group Jane's Addiction.. Write a response that appropriately completes the request.[/INST]\n",
      "Dataset ground truth:\n",
      "Lollapalooze is an annual musical festival held in Grant Park in Chicago, Illinois. It was started in 1991 as a farewell tour by Perry Farrell, singe of the group Jane's Addiction. The festival includes an array of musical genres including alternative rock, heavy metal, punk rock, hip hop, and electronic dance music. The festivals welcomes an estimated 400,000 people each year and sells out annually. Some notable headliners include: the Red Hot Chili Peppers, Chance the Rapper, Metallica, and Lady Gage. Lollapalooza is one of the largest and most iconic festivals in the world and a staple of Chicago.</s>\n"
     ]
    }
   ],
   "source": [
    "#benchmark_test = create_prompt(dataset[randrange(len(dataset))])\n",
    "benchmark_test = create_prompt(dataset[6])\n",
    "eval_prompt = benchmark_test[\"prompt\"]\n",
    "eval_completion = benchmark_test[\"completion\"]\n",
    "\n",
    "print(eval_prompt)\n",
    "print(\"Dataset ground truth:\")\n",
    "print(eval_completion)"
   ]
  },
  {
   "cell_type": "code",
   "execution_count": 7,
   "id": "4811c847-c2b4-4ad9-9c60-feb78f4b7af6",
   "metadata": {
    "tags": []
   },
   "outputs": [
    {
     "name": "stdout",
     "output_type": "stream",
     "text": [
      "<s><s> [INST] Below is the question based on the context. Question: Given a reference text about Lollapalooza, where does it take place, who started it and what is it?. Below is the given the context Lollapalooza /ˌlɒləpəˈluːzə/ (Lolla) is an annual American four-day music festival held in Grant Park in Chicago. It originally started as a touring event in 1991, but several years later, Chicago became its permanent location. Music genres include but are not limited to alternative rock, heavy metal, punk rock, hip hop, and electronic dance music. Lollapalooza has also featured visual arts, nonprofit organizations, and political organizations. The festival, held in Grant Park, hosts an estimated 400,000 people each July and sells out annually. Lollapalooza is one of the largest and most iconic music festivals in the world and one of the longest-running in the United States.\n",
      "\n",
      "Lollapalooza was conceived and created in 1991 as a farewell tour by Perry Farrell, singer of the group Jane's Addiction.. Write a response that appropriately completes the request.[/INST] Lollapalooze is an annual musical festival held in Grant Park in Chicago, Illinois. It was started in 1991 as a farewell tour by Perry Farrell, singe of the group Jane's Addiction. The festival includes an array of musical genres including alternative rock, heavy metal, punk rock, hip hop, and electronic dance music. The festivals welcomes an estimated 400,000 people each year and sells out annually. Some notable headliners include: the Red Hot Chili Peppers, Chance the Rapper, Metallica, and Lady Gage. Lollapalooza is one of the largest and most iconic festivals in the world and a staple of Chicago.</s>\n"
     ]
    }
   ],
   "source": [
    "model_input = tokenizer(eval_prompt, return_tensors=\"pt\").to(\"cuda\")\n",
    "\n",
    "new_model.eval()\n",
    "with torch.no_grad():\n",
    "    print(tokenizer.decode(new_model.generate(**model_input, max_new_tokens=256, pad_token_id=2)[0], skip_special_tokens=False))"
   ]
  },
  {
   "cell_type": "markdown",
   "id": "574a4fe2",
   "metadata": {},
   "source": [
    "#### You might notice that the output is identical to dataset ground truth\n",
    "\n",
    "This is expected behavious as we fine tuned the model on small samples."
   ]
  },
  {
   "cell_type": "markdown",
   "id": "c687e074-3ca7-4ef9-b2f3-ea80a73bf03a",
   "metadata": {},
   "source": [
    "### Mistral original model inference "
   ]
  },
  {
   "cell_type": "code",
   "execution_count": 4,
   "id": "31f3b9c0-4b26-4984-b166-75da00a557a5",
   "metadata": {
    "tags": []
   },
   "outputs": [],
   "source": [
    "model_id = \"mistralai/Mistral-7B-Instruct-v0.1\""
   ]
  },
  {
   "cell_type": "code",
   "execution_count": 5,
   "id": "20be602f-8400-4290-9103-568e0776dd5b",
   "metadata": {
    "tags": []
   },
   "outputs": [
    {
     "data": {
      "application/vnd.jupyter.widget-view+json": {
       "model_id": "4f30830afc824ad3a34140e88da4f03f",
       "version_major": 2,
       "version_minor": 0
      },
      "text/plain": [
       "Loading checkpoint shards:   0%|          | 0/2 [00:00<?, ?it/s]"
      ]
     },
     "metadata": {},
     "output_type": "display_data"
    }
   ],
   "source": [
    "import json\n",
    "import pandas as pd\n",
    "import torch\n",
    "from datasets import Dataset, load_dataset\n",
    "from transformers import AutoModelForCausalLM, AutoTokenizer\n",
    "\n",
    "base_model = AutoModelForCausalLM.from_pretrained(\n",
    "    model_id,\n",
    "    torch_dtype=torch.float16,\n",
    "    device_map=\"auto\"\n",
    ")\n",
    "\n",
    "# Load MitsralAi tokenizer\n",
    "tokenizer = AutoTokenizer.from_pretrained(model_id, trust_remote_code=True)"
   ]
  },
  {
   "cell_type": "markdown",
   "id": "4c2d8ef3-a28b-4916-bd70-427c709f7fc5",
   "metadata": {},
   "source": []
  },
  {
   "cell_type": "code",
   "execution_count": 6,
   "id": "a01679b4-fc57-458a-ba4b-0749da3b11d3",
   "metadata": {
    "tags": []
   },
   "outputs": [
    {
     "name": "stdout",
     "output_type": "stream",
     "text": [
      "<s>[INST] Below is the question based on the context. Question: Given a reference text about Lollapalooza, where does it take place, who started it and what is it?. Below is the given the context Lollapalooza /ˌlɒləpəˈluːzə/ (Lolla) is an annual American four-day music festival held in Grant Park in Chicago. It originally started as a touring event in 1991, but several years later, Chicago became its permanent location. Music genres include but are not limited to alternative rock, heavy metal, punk rock, hip hop, and electronic dance music. Lollapalooza has also featured visual arts, nonprofit organizations, and political organizations. The festival, held in Grant Park, hosts an estimated 400,000 people each July and sells out annually. Lollapalooza is one of the largest and most iconic music festivals in the world and one of the longest-running in the United States.\n",
      "\n",
      "Lollapalooza was conceived and created in 1991 as a farewell tour by Perry Farrell, singer of the group Jane's Addiction.. Write a response that appropriately completes the request.[/INST]\n",
      "Dataset ground truth:\n",
      "Lollapalooze is an annual musical festival held in Grant Park in Chicago, Illinois. It was started in 1991 as a farewell tour by Perry Farrell, singe of the group Jane's Addiction. The festival includes an array of musical genres including alternative rock, heavy metal, punk rock, hip hop, and electronic dance music. The festivals welcomes an estimated 400,000 people each year and sells out annually. Some notable headliners include: the Red Hot Chili Peppers, Chance the Rapper, Metallica, and Lady Gage. Lollapalooza is one of the largest and most iconic festivals in the world and a staple of Chicago.</s>\n"
     ]
    }
   ],
   "source": [
    "#benchmark_test = create_prompt(dataset[randrange(len(dataset))])\n",
    "benchmark_test = create_prompt(dataset[6])\n",
    "eval_prompt = benchmark_test[\"prompt\"]\n",
    "eval_completion = benchmark_test[\"completion\"]\n",
    "\n",
    "print(eval_prompt)\n",
    "print(\"Dataset ground truth:\")\n",
    "print(eval_completion)"
   ]
  },
  {
   "cell_type": "markdown",
   "id": "72e707a1-88f5-43a3-8be6-a035ae568b39",
   "metadata": {
    "tags": []
   },
   "source": [
    "#### You might notice that the output is semantically correct\n",
    "\n",
    "This is expected behavious thanks the the zero shot capabilities of original Mistral model "
   ]
  },
  {
   "cell_type": "code",
   "execution_count": 7,
   "id": "5512f9ed-8b99-4b9b-bec7-fe3ebb6260db",
   "metadata": {
    "tags": []
   },
   "outputs": [
    {
     "name": "stdout",
     "output_type": "stream",
     "text": [
      "<s><s> [INST] Below is the question based on the context. Question: Given a reference text about Lollapalooza, where does it take place, who started it and what is it?. Below is the given the context Lollapalooza /ˌlɒləpəˈluːzə/ (Lolla) is an annual American four-day music festival held in Grant Park in Chicago. It originally started as a touring event in 1991, but several years later, Chicago became its permanent location. Music genres include but are not limited to alternative rock, heavy metal, punk rock, hip hop, and electronic dance music. Lollapalooza has also featured visual arts, nonprofit organizations, and political organizations. The festival, held in Grant Park, hosts an estimated 400,000 people each July and sells out annually. Lollapalooza is one of the largest and most iconic music festivals in the world and one of the longest-running in the United States.\n",
      "\n",
      "Lollapalooza was conceived and created in 1991 as a farewell tour by Perry Farrell, singer of the group Jane's Addiction.. Write a response that appropriately completes the request.[/INST] Lollapalooza takes place in Grant Park in Chicago. It was started by Perry Farrell, the singer of Jane's Addiction, as a farewell tour in 1991. The festival features a variety of music genres including alternative rock, heavy metal, punk rock, hip hop, and electronic dance music. Lollapalooza has also included visual arts, nonprofit organizations, and political organizations in its lineup. The festival attracts an estimated 400,000 people each July and sells out annually. Lollapalooza is considered one of the largest and most iconic music festivals in the world and one of the longest-running in the United States.</s>\n"
     ]
    }
   ],
   "source": [
    "model_input = tokenizer(eval_prompt, return_tensors=\"pt\").to(\"cuda\")\n",
    "\n",
    "\n",
    "base_model.eval()\n",
    "with torch.no_grad():\n",
    "    print(tokenizer.decode(base_model.generate(**model_input, max_new_tokens=256, pad_token_id=2)[0], skip_special_tokens=False))"
   ]
  },
  {
   "cell_type": "code",
   "execution_count": null,
   "id": "81eab384-6c1c-4dcd-8709-09abd18d7788",
   "metadata": {
    "tags": []
   },
   "outputs": [],
   "source": []
  }
 ],
 "metadata": {
  "kernelspec": {
   "display_name": "conda_pytorch_p310",
   "language": "python",
   "name": "conda_pytorch_p310"
  },
  "language_info": {
   "codemirror_mode": {
    "name": "ipython",
    "version": 3
   },
   "file_extension": ".py",
   "mimetype": "text/x-python",
   "name": "python",
   "nbconvert_exporter": "python",
   "pygments_lexer": "ipython3",
   "version": "3.10.13"
  }
 },
 "nbformat": 4,
 "nbformat_minor": 5
}
